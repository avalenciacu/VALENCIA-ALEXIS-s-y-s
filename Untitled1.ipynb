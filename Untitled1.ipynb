{
  "nbformat": 4,
  "nbformat_minor": 0,
  "metadata": {
    "colab": {
      "private_outputs": true,
      "provenance": []
    },
    "kernelspec": {
      "name": "python3",
      "display_name": "Python 3"
    },
    "language_info": {
      "name": "python"
    }
  },
  "cells": [
    {
      "cell_type": "markdown",
      "source": [
        "Primer punto.\n",
        "\n"
      ],
      "metadata": {
        "id": "eXcORRdOk1__"
      }
    },
    {
      "cell_type": "code",
      "execution_count": null,
      "metadata": {
        "id": "HyiMJZqrksEu"
      },
      "outputs": [],
      "source": [
        "import numpy as np\n",
        "import matplotlib.pyplot as plt\n",
        "\n",
        "# Definimos el tiempo\n",
        "fs = 1000  # Frecuencia de muestreo\n",
        "T = 2 * np.pi  # Período fundamental\n",
        "t = np.linspace(0, 2*T, int(2*T*fs))  # por lo menos Dos períodos\n",
        "\n",
        "# señal simplificada\n",
        "x = -20 * np.cos(7*t) - 3 * np.cos(5*t) + 2 * np.cos(10*t)\n",
        "\n",
        "# Grafica de la señal\n",
        "plt.figure(figsize=(10, 4))\n",
        "plt.plot(t, x, label=r'senal x(t)')\n",
        "plt.title('simulacion de la señal original x(t)')\n",
        "plt.xlabel('Tiempo [s]')\n",
        "plt.ylabel('Amplitud')\n",
        "plt.grid(True)\n",
        "plt.legend()\n",
        "plt.tight_layout()\n",
        "plt.show()\n"
      ]
    },
    {
      "cell_type": "markdown",
      "source": [
        "Adaptacion de la señal para que su rango esté entre -3.3 V y 5 V (rango del microprocesador)"
      ],
      "metadata": {
        "id": "kK2GUDWhpIfX"
      }
    },
    {
      "cell_type": "code",
      "source": [
        "x_min = np.min(x)\n",
        "x_max = np.max(x)\n",
        "\n",
        "# Rango deseado\n",
        "y_min = -3.3\n",
        "y_max = 5\n",
        "\n",
        "# Calculo a y b\n",
        "a = (y_max - y_min) / (x_max - x_min)\n",
        "b = y_min - a * x_min\n",
        "\n",
        "# Acondicionacion de la señal\n",
        "x_cond = a * x + b\n",
        "print(x_min,x_max)\n",
        "\n",
        "# Grafica de la señal acondicionada\n",
        "plt.figure(figsize=(10, 4))\n",
        "#plt.plot(t, x, label=r'senal x(t)')\n",
        "plt.plot(t, x_cond, label='Señal acond',color=\"g\")\n",
        "plt.hlines([y_min, y_max], xmin=t[0], xmax=t[-1], colors='r', linestyles='--', label='Rango permitido')\n",
        "plt.title('Señal acondicionada')\n",
        "plt.xlabel('Tiempo [s]')\n",
        "plt.ylabel('Voltaje [V]')\n",
        "plt.grid(True)\n",
        "plt.legend()\n",
        "plt.tight_layout()\n",
        "plt.show()\n"
      ],
      "metadata": {
        "id": "Z-VCuGaorDG3"
      },
      "execution_count": null,
      "outputs": []
    },
    {
      "cell_type": "markdown",
      "source": [],
      "metadata": {
        "id": "5MM69g9VAPFF"
      }
    },
    {
      "cell_type": "code",
      "source": [
        "niveles = 2 ** 5 # BITS=5\n",
        "y_min = -3.3\n",
        "y_max = 5\n",
        "delta = (y_max - y_min) / (niveles - 1)\n",
        "# Cuantización\n",
        "x_dgtl = np.round((x_cond - y_min) / delta) * delta + y_min\n",
        "plt.figure(figsize=(10, 4))\n",
        "plt.plot(t, x, label=r'senal x(t)')\n",
        "plt.plot(t, x_dgtl, label=r'senal digitalizada',color=\"black\")\n",
        "plt.title('Senal Digitalizada')\n",
        "plt.xlabel('Tiempo [s]')\n",
        "plt.ylabel('Voltaje [V]')\n",
        "plt.grid(True)\n",
        "plt.legend()\n",
        "plt.tight_layout()\n",
        "plt.show()"
      ],
      "metadata": {
        "id": "OBMZqjNuB1YF"
      },
      "execution_count": null,
      "outputs": []
    },
    {
      "cell_type": "markdown",
      "source": [
        "PUNTO 2"
      ],
      "metadata": {
        "id": "kBv_eHGaNEij"
      }
    },
    {
      "cell_type": "code",
      "source": [
        "# Parámetros de tiempo\n",
        "t = np.linspace(0, 0.002, 500)  # 2 ms de señal, 500 puntos\n",
        "\n",
        "# Señal original\n",
        "x2 = 3*np.cos(1000*np.pi*t) + 5*np.sin(2000*np.pi*t) + 10*np.cos(11000*np.pi*t)\n",
        "\n",
        "# Gráfica\n",
        "plt.figure(figsize=(12, 4))\n",
        "plt.plot(t, x2, label=\"x(t)\", color='blue')\n",
        "plt.title(\"Señal Original en el Dominio del Tiempo\")\n",
        "plt.xlabel(\"Tiempo (s)\")\n",
        "plt.ylabel(\"Amplitud (V)\")\n",
        "plt.grid(True)\n",
        "plt.legend()\n",
        "plt.show()"
      ],
      "metadata": {
        "id": "67DOeD-MNImw"
      },
      "execution_count": null,
      "outputs": []
    },
    {
      "cell_type": "code",
      "source": [
        "from scipy.fft import fft, fftfreq\n",
        "\n",
        "# Cálculo de la FFT\n",
        "N = len(t)\n",
        "yf = fft(x2)\n",
        "xf = fftfreq(N, t[1] - t[0])[:N//2]  # Frecuencias positivas\n",
        "\n",
        "# Gráfica del espectro\n",
        "plt.figure(figsize=(12, 4))\n",
        "plt.plot(xf, 2/N * np.abs(yf[:N//2]), label=\"Espectro de Frecuencias\")\n",
        "plt.axvline(x=500, color='r', linestyle='--', label=\"500 Hz\")\n",
        "plt.axvline(x=1000, color='g', linestyle='--', label=\"1000 Hz\")\n",
        "plt.axvline(x=5500, color='k', linestyle='--', label=\"5500 Hz\")\n",
        "plt.title(\"Espectro de Frecuencias de $x(t)$\")\n",
        "plt.xlabel(\"Frecuencia (Hz)\")\n",
        "plt.ylabel(\"Magnitud\")\n",
        "plt.xlim(0, 6000)\n",
        "plt.grid()\n",
        "plt.legend()\n",
        "plt.show()"
      ],
      "metadata": {
        "id": "pVImyjiuZZPn"
      },
      "execution_count": null,
      "outputs": []
    },
    {
      "cell_type": "markdown",
      "source": [
        "implementacion de un conversor adecuado"
      ],
      "metadata": {
        "id": "HrZgOag0f7yP"
      }
    },
    {
      "cell_type": "code",
      "source": [
        "import numpy as np\n",
        "import matplotlib.pyplot as plt\n",
        "\n",
        "t = np.linspace(0, 0.002, 1000)  # 2 ms\n",
        "x_t = 3*np.cos(1000*np.pi*t) + 5*np.sin(2000*np.pi*t) + 10*np.cos(11000*np.pi*t)\n",
        "x_filtrada = 3*np.cos(1000*np.pi*t) + 5*np.sin(2000*np.pi*t)  # Filtrada ideal\n",
        "\n",
        "plt.figure(figsize=(12, 4))\n",
        "plt.plot(t, x_t, label=\"Señal original (con 5500 Hz)\")\n",
        "plt.plot(t, x_filtrada, label=\"Señal filtrada (sin 5500 Hz)\")\n",
        "plt.legend()\n",
        "plt.grid()\n",
        "plt.show()\n"
      ],
      "metadata": {
        "id": "xdOAHj-Rf8Ju"
      },
      "execution_count": null,
      "outputs": []
    },
    {
      "cell_type": "markdown",
      "source": [
        "punto 3"
      ],
      "metadata": {
        "id": "iTYgDxBghswJ"
      }
    },
    {
      "cell_type": "markdown",
      "source": [
        "Cual es la distacia media entre las señales."
      ],
      "metadata": {
        "id": "5FoHdyVf93j5"
      }
    },
    {
      "cell_type": "code",
      "source": [
        "\n",
        "\n",
        "# Parámetros\n",
        "A = 1\n",
        "T = 2 * np.pi\n",
        "t = np.linspace(0, T, 1000)\n",
        "\n",
        "# Señal x1(t) = A cos(2π/T * t)\n",
        "x1 = A * np.cos((2 * np.pi / T) * t)\n",
        "\n",
        "# Señal x2(t) definida por tramos\n",
        "x2 = np.piecewise(\n",
        "    t,\n",
        "    [t < T/4, (t >= T/4) & (t < 3*T/4), t >= 3*T/4],\n",
        "    [1, -1, 1]\n",
        ")\n",
        "\n",
        "# Graficar\n",
        "plt.figure(figsize=(10, 4))\n",
        "plt.plot(t, x1, label='x1(t)',color=\"g\")\n",
        "plt.plot(t, x2, label='x2(t)')\n",
        "plt.title('Comparación entre x1(t) y x2(t)')\n",
        "plt.xlabel('t')\n",
        "plt.ylabel('Amplitud')\n",
        "plt.grid(True)\n",
        "plt.legend()\n",
        "plt.tight_layout()\n",
        "plt.show()\n"
      ],
      "metadata": {
        "id": "w6rH5frghuwR"
      },
      "execution_count": null,
      "outputs": []
    },
    {
      "cell_type": "markdown",
      "source": [
        "calculo de la distancia"
      ],
      "metadata": {
        "id": "Tht_1lHuiIGs"
      }
    },
    {
      "cell_type": "code",
      "source": [
        "import sympy as sp\n",
        "\n",
        "# Variables simbólicas\n",
        "t, A, T = sp.symbols('t A T', real=True, positive=True)\n",
        "\n",
        "# Definir x1(t)\n",
        "x1 = A * sp.cos((2 * sp.pi / T) * t)\n",
        "\n",
        "# Definir integrandos por tramos\n",
        "I1 = (x1 - 1)**2\n",
        "I2 = (x1 + 1)**2\n",
        "I3 = (x1 - 1)**2\n",
        "\n",
        "# Calcular las integrales\n",
        "int1 = sp.integrate(I1, (t, 0, T/4))\n",
        "int2 = sp.integrate(I2, (t, T/4, 3*T/4))\n",
        "int3 = sp.integrate(I3, (t, 3*T/4, T))\n",
        "\n",
        "# Sumar y dividir por T\n",
        "d = (1/T) * (int1 + int2 + int3)\n",
        "\n",
        "# Simplificar\n",
        "d_simplificado = sp.simplify(d)\n",
        "\n",
        "# Mostrar resultado\n",
        "sp.pprint(d_simplificado)\n"
      ],
      "metadata": {
        "id": "hMpvff3LiLZE"
      },
      "execution_count": null,
      "outputs": []
    },
    {
      "cell_type": "markdown",
      "source": [
        "punto 5\n"
      ],
      "metadata": {
        "id": "R1AeXENoys95"
      }
    },
    {
      "cell_type": "code",
      "source": [
        "import numpy as np\n",
        "import matplotlib.pyplot as plt\n",
        "\n",
        "# Parámetros\n",
        "A = 1\n",
        "T = 10\n",
        "d1 = 2\n",
        "d2 = 4\n",
        "\n",
        "# Definir el eje de tiempo\n",
        "t = np.linspace(-T/2, T/2, 1000)\n",
        "\n",
        "# Inicializar la señal\n",
        "x = np.zeros_like(t)\n",
        "\n",
        "# Aplicar condiciones por tramos\n",
        "x[(t >= -d2) & (t < -d1)] = -A * (t[(t >= -d2) & (t < -d1)] + d2) / (d2 - d1)\n",
        "x[(t >= -d1) & (t < d1)] = -A\n",
        "x[(t >= d1) & (t < d2)] = A * (t[(t >= d1) & (t < d2)] - d1) / (d2 - d1) - A\n",
        "x[(t >= d2) & (t <= T/2)] = 0  # Ya es 0 por inicialización, se deja por claridad\n",
        "\n",
        "# Graficar\n",
        "plt.figure(figsize=(10, 4))\n",
        "plt.plot(t, x, label=r'$x(t)$', color='blue')\n",
        "plt.axhline(0, color='black', linestyle='--', linewidth=0.8)\n",
        "plt.title('Señal trapezoidal definida por tramos')\n",
        "plt.xlabel('Tiempo [s]')\n",
        "plt.ylabel('Amplitud')\n",
        "plt.grid(True)\n",
        "plt.legend()\n",
        "plt.tight_layout()\n",
        "plt.show()\n"
      ],
      "metadata": {
        "id": "8cQTgAlryvda"
      },
      "execution_count": null,
      "outputs": []
    },
    {
      "cell_type": "code",
      "source": [],
      "metadata": {
        "id": "lpsDZWWpcyJo"
      },
      "execution_count": null,
      "outputs": []
    },
    {
      "cell_type": "code",
      "source": [],
      "metadata": {
        "id": "1aohSDfBh8de"
      },
      "execution_count": null,
      "outputs": []
    }
  ]
}
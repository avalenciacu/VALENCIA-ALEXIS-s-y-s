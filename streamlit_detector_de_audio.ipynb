{
  "nbformat": 4,
  "nbformat_minor": 0,
  "metadata": {
    "colab": {
      "private_outputs": true,
      "provenance": [],
      "authorship_tag": "ABX9TyMT/YIzXR+qXhbXOAfN/S19",
      "include_colab_link": true
    },
    "kernelspec": {
      "name": "python3",
      "display_name": "Python 3"
    },
    "language_info": {
      "name": "python"
    }
  },
  "cells": [
    {
      "cell_type": "markdown",
      "metadata": {
        "id": "view-in-github",
        "colab_type": "text"
      },
      "source": [
        "<a href=\"https://colab.research.google.com/github/avalenciacu/simulacion-parcial-s-y-s/blob/main/streamlit_detector_de_audio.ipynb\" target=\"_parent\"><img src=\"https://colab.research.google.com/assets/colab-badge.svg\" alt=\"Open In Colab\"/></a>"
      ]
    },
    {
      "cell_type": "code",
      "execution_count": null,
      "metadata": {
        "id": "2UOTI_RpIuZ2"
      },
      "outputs": [],
      "source": [
        "#instalación de librerías\n",
        "!pip install streamlit -q"
      ]
    },
    {
      "cell_type": "code",
      "source": [
        "!mkdir funciones"
      ],
      "metadata": {
        "id": "0hM8YAzjJYna"
      },
      "execution_count": null,
      "outputs": []
    },
    {
      "cell_type": "code",
      "source": [
        "%%writefile 0_👋_Hello.py\n",
        "import streamlit as st\n",
        "st.set_page_config(\n",
        "    page_title=\"DETECTOR DE AUDIO\",\n",
        "    page_icon=\"🎶\",\n",
        ")\n",
        "\n",
        "st.title('Bienvenido a tu detector de audio🎶')\n",
        "st.sidebar.success(\"Seleccciona una audio detector, para empezar.\")\n",
        "\n",
        "st.markdown(\n",
        "    \"\"\"\n",
        "    hola\n",
        "\"\"\"\n",
        ")\n"
      ],
      "metadata": {
        "id": "NkT9F6HOPUky"
      },
      "execution_count": null,
      "outputs": []
    }
  ]
}